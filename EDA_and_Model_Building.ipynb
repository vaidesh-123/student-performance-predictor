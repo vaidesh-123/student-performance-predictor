{
 "cells": [
  {
   "cell_type": "markdown",
   "id": "cfb76127",
   "metadata": {},
   "source": [
    "# Student Performance Predictor\n",
    "\n",
    "This notebook contains EDA, preprocessing, model building, and evaluation for predicting student performance."
   ]
  },
  {
   "cell_type": "code",
   "execution_count": null,
   "id": "226fb7ed",
   "metadata": {},
   "outputs": [],
   "source": [
    "import pandas as pd\n",
    "import numpy as np\n",
    "import matplotlib.pyplot as plt\n",
    "import seaborn as sns\n",
    "from sklearn.model_selection import train_test_split\n",
    "from sklearn.linear_model import LinearRegression\n",
    "from sklearn.ensemble import RandomForestRegressor\n",
    "from sklearn.metrics import r2_score, mean_absolute_error\n"
   ]
  },
  {
   "cell_type": "markdown",
   "id": "55faf02c",
   "metadata": {},
   "source": [
    "## 📥 Load Data"
   ]
  },
  {
   "cell_type": "code",
   "execution_count": null,
   "id": "033ea68b",
   "metadata": {},
   "outputs": [],
   "source": [
    "# Replace with your CSV file path\n",
    "df = pd.read_csv('../data/student_performance.csv')\n",
    "df.head()"
   ]
  },
  {
   "cell_type": "markdown",
   "id": "cd81422e",
   "metadata": {},
   "source": [
    "## 🔍 Exploratory Data Analysis (EDA)"
   ]
  },
  {
   "cell_type": "code",
   "execution_count": null,
   "id": "fa4499f0",
   "metadata": {},
   "outputs": [],
   "source": [
    "df.describe()\n",
    "df.info()\n",
    "sns.pairplot(df)\n",
    "plt.show()"
   ]
  },
  {
   "cell_type": "markdown",
   "id": "f7c47960",
   "metadata": {},
   "source": [
    "## 🛠️ Data Preprocessing"
   ]
  },
  {
   "cell_type": "code",
   "execution_count": null,
   "id": "9575c870",
   "metadata": {},
   "outputs": [],
   "source": [
    "# Example: Handle missing values\n",
    "df = df.dropna()\n",
    "\n",
    "# Example: Encoding categorical variables\n",
    "# df['column'] = df['column'].map({'A': 0, 'B': 1})\n",
    "\n",
    "# Split features and target\n",
    "X = df.drop('target_column', axis=1)\n",
    "y = df['target_column']\n",
    "\n",
    "# Train-test split\n",
    "X_train, X_test, y_train, y_test = train_test_split(X, y, test_size=0.2, random_state=42)\n"
   ]
  },
  {
   "cell_type": "markdown",
   "id": "96504f79",
   "metadata": {},
   "source": [
    "## 🤖 Model Building"
   ]
  },
  {
   "cell_type": "code",
   "execution_count": null,
   "id": "4991b99e",
   "metadata": {},
   "outputs": [],
   "source": [
    "# Linear Regression\n",
    "lr = LinearRegression()\n",
    "lr.fit(X_train, y_train)\n",
    "lr_preds = lr.predict(X_test)\n",
    "\n",
    "# Random Forest Regressor\n",
    "rf = RandomForestRegressor(random_state=42)\n",
    "rf.fit(X_train, y_train)\n",
    "rf_preds = rf.predict(X_test)\n"
   ]
  },
  {
   "cell_type": "markdown",
   "id": "2d9626cc",
   "metadata": {},
   "source": [
    "## 📊 Evaluation"
   ]
  },
  {
   "cell_type": "code",
   "execution_count": null,
   "id": "ab9f32a0",
   "metadata": {},
   "outputs": [],
   "source": [
    "print(\"Linear Regression R^2:\", r2_score(y_test, lr_preds))\n",
    "print(\"Linear Regression MAE:\", mean_absolute_error(y_test, lr_preds))\n",
    "\n",
    "print(\"Random Forest R^2:\", r2_score(y_test, rf_preds))\n",
    "print(\"Random Forest MAE:\", mean_absolute_error(y_test, rf_preds))\n",
    "\n",
    "# Visualization\n",
    "plt.figure(figsize=(10,5))\n",
    "plt.scatter(y_test, lr_preds, label='Linear Regression', alpha=0.7)\n",
    "plt.scatter(y_test, rf_preds, label='Random Forest', alpha=0.7)\n",
    "plt.plot([y_test.min(), y_test.max()], [y_test.min(), y_test.max()], 'k--')\n",
    "plt.xlabel('Actual')\n",
    "plt.ylabel('Predicted')\n",
    "plt.legend()\n",
    "plt.title('Actual vs Predicted')\n",
    "plt.show()\n"
   ]
  }
 ],
 "metadata": {},
 "nbformat": 4,
 "nbformat_minor": 5
}
